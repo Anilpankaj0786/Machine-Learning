{
 "cells": [
  {
   "cell_type": "markdown",
   "id": "51cf36df-626b-4898-8494-39c78f1843f2",
   "metadata": {},
   "source": [
    "# What is Apriori Algorithm in ML?"
   ]
  },
  {
   "cell_type": "code",
   "execution_count": 1,
   "id": "e89c810c-70aa-484c-8e4a-3c70390a6282",
   "metadata": {},
   "outputs": [],
   "source": [
    "#  What is Apriori Algorithm in ML?\n",
    "# Apriori Algorithm is a frequent pattern mining algorithm used in association rule learning.\n",
    "# It is widely applied in market basket analysis to find associations or relationships between\n",
    "# items in a large dataset of transactions."
   ]
  },
  {
   "cell_type": "markdown",
   "id": "1b1cc33c-c043-4f99-bbcb-a066193a3ab8",
   "metadata": {},
   "source": [
    "# How It Works:"
   ]
  },
  {
   "cell_type": "code",
   "execution_count": 2,
   "id": "14d8206f-4807-4cb7-8b26-88545fa2b20f",
   "metadata": {},
   "outputs": [],
   "source": [
    "# 1. Identify frequent individual items in the dataset (those that meet a minimum support threshold).\n",
    "\n",
    "# 2. Extend to larger itemsets (pairs, triples, etc.) by combining the frequent items, as long as these larger itemsets also appear frequently.\n",
    "\n",
    "# 3. Use these frequent itemsets to generate association rules that show how items are related."
   ]
  },
  {
   "cell_type": "markdown",
   "id": "0d824b18-634a-4557-8354-3927074f1b24",
   "metadata": {},
   "source": [
    "# Key Metrics in Apriori:"
   ]
  },
  {
   "cell_type": "code",
   "execution_count": 3,
   "id": "05788961-68a7-4bc3-9f48-dcef5c7d2245",
   "metadata": {},
   "outputs": [],
   "source": [
    "# 1. SUPPORT \n",
    "\n",
    "# Definition: How frequently an itemset appears in the dataset.\n",
    "\n",
    "# Formula:    Support(A→B)= Total  containing A∪B /Total transactions\n",
    "#  Interpretation: Measures how popular a rule is."
   ]
  },
  {
   "cell_type": "code",
   "execution_count": 4,
   "id": "cb6d8632-8d3d-4e83-acb3-3c59b72e59b3",
   "metadata": {},
   "outputs": [],
   "source": [
    "# 2. CONFIDENCE \n",
    "# Definition: How often item B appears in transactions that contain item A.\n",
    "\n",
    "# Formula:Confidence(A→B)=Support(A∪B)/Support(A)\n",
    "# ​Interpretation: Measures the strength of the implication.\n",
    "# High confidence means if A occurs, B is likely to occur too.\n"
   ]
  },
  {
   "cell_type": "code",
   "execution_count": 5,
   "id": "6d2768ed-c3ff-45d3-abe5-d884e04d988f",
   "metadata": {},
   "outputs": [],
   "source": [
    "# 3. Lift\n",
    "\n",
    "# Definition: Measures how much more likely A and B occur together than if they were independent.\n",
    "\n",
    "# Formula: Lift(A→B)=Confidence(A→B)/Support(B)\n",
    "# Interpretation:\n",
    "\n",
    "# Lift > 1 → Positive correlation\n",
    "\n",
    "# Lift = 1 → No correlation (independent)\n",
    "\n",
    "# Lift < 1 → Negative correlation"
   ]
  },
  {
   "cell_type": "code",
   "execution_count": 6,
   "id": "3dce56ee-3b58-45d4-8081-ed33cce8066a",
   "metadata": {},
   "outputs": [],
   "source": [
    "# | Transaction ID | Items Bought        |\n",
    "# | -------------- | ------------------- |\n",
    "# | 1              | Milk, Bread         |\n",
    "# | 2              | Milk, Bread, Butter |\n",
    "# | 3              | Bread, Butter       |\n",
    "# | 4              | Milk, Butter        |\n",
    "# | 5              | Bread               |"
   ]
  },
  {
   "cell_type": "code",
   "execution_count": null,
   "id": "37ad82c9-a5f1-4f43-ba71-edb2ae6c7101",
   "metadata": {},
   "outputs": [],
   "source": []
  },
  {
   "cell_type": "code",
   "execution_count": 7,
   "id": "9a1d4623-59e3-4f91-a352-6aba52976b91",
   "metadata": {},
   "outputs": [],
   "source": [
    "# lets analysis the association rule for milk and butter \n",
    "# 1. Support \n",
    "# support of milk butter=Support({Milk, Butter}) =Number of transactions containing Milk and Butter/Total number of transactions\n",
    "# == 2/5 \n",
    "# == 0.4"
   ]
  },
  {
   "cell_type": "code",
   "execution_count": 8,
   "id": "1c27a5e7-04e2-4eb8-b331-177432c84921",
   "metadata": {},
   "outputs": [],
   "source": [
    "# 2.cofidence= Among those, how many also contain Butter?\n",
    "# transaction of milk = 3 and cofindence of milk to butter 2/3=0.67\n"
   ]
  },
  {
   "cell_type": "code",
   "execution_count": 9,
   "id": "1d63d48c-9858-4cde-8cad-60679cd1ff9e",
   "metadata": {},
   "outputs": [],
   "source": [
    "# 3. Lift = How much more likely someone is to buy butter if they buy milk compare to just buying butter \n",
    "# buy itself.\n",
    "# support of butter = 3/5=0.6\n",
    "# lift=confidence/support of butter\n",
    "# 0.67/0.6=1.11\n",
    "# lift=1.11 means milk buyers are 11% more likely to buy butter than general customer "
   ]
  },
  {
   "cell_type": "code",
   "execution_count": 8,
   "id": "46464423-f716-4dac-b2e5-28b2f38d98f8",
   "metadata": {},
   "outputs": [],
   "source": [
    "# WHAT IS APRIORY ALGO IN AND WHAT ARE SUPPORT, CONFIDENCE AND LIFT IN THE CONTEXT OF ALGO. \n",
    "# WHAT ARE THE MAIN ASSUMESION AND LIMITATION OF AP ALGO \n",
    "# WHAT ARE THE MAIN STEPS IN AP ALGO \n",
    "\n",
    "# WHAT IS PCA AND WHY DO WE USE PCA \n",
    "# HOW DOES PCA WORKS.\n",
    "# THOSE PCA ALWAYS INPROVE MODEL PERFORMANCE \n",
    "# HOW DO YOU CHOSE THE NUMBER OF COMPONENTS IN PCA \n",
    "# WHAT A SOME LIMITATION OF PCA "
   ]
  },
  {
   "cell_type": "code",
   "execution_count": null,
   "id": "fe6a627f-864d-41f8-83bf-5adef1bcdae7",
   "metadata": {},
   "outputs": [],
   "source": [
    "# Kaggle Notebook "
   ]
  }
 ],
 "metadata": {
  "kernelspec": {
   "display_name": "Python 3 (ipykernel)",
   "language": "python",
   "name": "python3"
  },
  "language_info": {
   "codemirror_mode": {
    "name": "ipython",
    "version": 3
   },
   "file_extension": ".py",
   "mimetype": "text/x-python",
   "name": "python",
   "nbconvert_exporter": "python",
   "pygments_lexer": "ipython3",
   "version": "3.13.2"
  }
 },
 "nbformat": 4,
 "nbformat_minor": 5
}
