{
 "cells": [
  {
   "cell_type": "code",
   "execution_count": 2,
   "id": "2aa85797-c304-41e8-b3bc-ddba21928b38",
   "metadata": {},
   "outputs": [
    {
     "name": "stdout",
     "output_type": "stream",
     "text": [
      "Lasso Test Score: 0.9997241704794736\n",
      "Ridge Test Score: 0.9997883439422064\n",
      "Elastic Net Test Score: 0.8695257638928805\n"
     ]
    }
   ],
   "source": [
    "from sklearn.linear_model import Lasso, Ridge, ElasticNet\n",
    "from sklearn.datasets import make_regression\n",
    "from sklearn.model_selection import train_test_split\n",
    "\n",
    "# Create sample data\n",
    "X, y = make_regression(n_samples=100, n_features=10, noise=0.5, random_state=42)\n",
    "X_train, X_test, y_train, y_test = train_test_split(X, y, test_size=0.2, random_state=42)\n",
    "\n",
    "# Lasso Regression (L1)\n",
    "lasso = Lasso(alpha=1.0)\n",
    "lasso.fit(X_train, y_train)\n",
    "lasso_score = lasso.score(X_test, y_test)\n",
    "\n",
    "# Ridge Regression (L2)\n",
    "ridge = Ridge(alpha=1.0)\n",
    "ridge.fit(X_train, y_train)\n",
    "ridge_score = ridge.score(X_test, y_test)\n",
    "\n",
    "# Elastic Net Regression (L1 + L2)\n",
    "elastic = ElasticNet(alpha=1.0, l1_ratio=0.5)\n",
    "elastic.fit(X_train, y_train)\n",
    "elastic_score = elastic.score(X_test, y_test)\n",
    "\n",
    "print(\"Lasso Test Score:\", lasso_score)\n",
    "print(\"Ridge Test Score:\", ridge_score)\n",
    "print(\"Elastic Net Test Score:\", elastic_score)\n"
   ]
  },
  {
   "cell_type": "code",
   "execution_count": null,
   "id": "ee1be960-0d8d-4690-b0f4-def52092420c",
   "metadata": {},
   "outputs": [],
   "source": []
  }
 ],
 "metadata": {
  "kernelspec": {
   "display_name": "Python 3 (ipykernel)",
   "language": "python",
   "name": "python3"
  },
  "language_info": {
   "codemirror_mode": {
    "name": "ipython",
    "version": 3
   },
   "file_extension": ".py",
   "mimetype": "text/x-python",
   "name": "python",
   "nbconvert_exporter": "python",
   "pygments_lexer": "ipython3",
   "version": "3.13.2"
  }
 },
 "nbformat": 4,
 "nbformat_minor": 5
}
