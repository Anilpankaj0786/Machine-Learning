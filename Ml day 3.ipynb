{
 "cells": [
  {
   "cell_type": "code",
   "execution_count": 1,
   "id": "a5c7263e-ef28-4c33-a075-4aa21c50b1ec",
   "metadata": {},
   "outputs": [],
   "source": [
    "import numpy as np \n",
    "import pandas as pd"
   ]
  },
  {
   "cell_type": "code",
   "execution_count": 2,
   "id": "bf9b88d6-76e0-44bb-98c6-5c6c2728bedb",
   "metadata": {},
   "outputs": [],
   "source": [
    "from sklearn.model_selection import train_test_split"
   ]
  },
  {
   "cell_type": "code",
   "execution_count": 3,
   "id": "676e4694-5b0e-4f7f-ac9f-14f26ca21bda",
   "metadata": {},
   "outputs": [],
   "source": [
    "from sklearn.impute import SimpleImputer"
   ]
  },
  {
   "cell_type": "code",
   "execution_count": 6,
   "id": "1204766d-78f6-4569-b966-fafefa170e74",
   "metadata": {},
   "outputs": [],
   "source": [
    "from sklearn.preprocessing import LabelEncoder"
   ]
  },
  {
   "cell_type": "code",
   "execution_count": 7,
   "id": "587f58d5-b6dd-43ff-b5f2-0a0c874ed9e7",
   "metadata": {},
   "outputs": [],
   "source": [
    "from sklearn.preprocessing import StandardScaler"
   ]
  },
  {
   "cell_type": "code",
   "execution_count": 8,
   "id": "3338ea03-f845-481a-94c8-abbd2c86395e",
   "metadata": {},
   "outputs": [],
   "source": [
    "from sklearn.preprocessing import MinMaxScaler\n"
   ]
  },
  {
   "cell_type": "markdown",
   "id": "ca39e5a4-e668-46f4-b27f-f1e489fe1a15",
   "metadata": {},
   "source": [
    "# 1.LabelEncoder"
   ]
  },
  {
   "cell_type": "code",
   "execution_count": 9,
   "id": "16acee0c-2a80-4b20-8ff2-8d98fde1ecfe",
   "metadata": {},
   "outputs": [
    {
     "data": {
      "text/html": [
       "<div>\n",
       "<style scoped>\n",
       "    .dataframe tbody tr th:only-of-type {\n",
       "        vertical-align: middle;\n",
       "    }\n",
       "\n",
       "    .dataframe tbody tr th {\n",
       "        vertical-align: top;\n",
       "    }\n",
       "\n",
       "    .dataframe thead th {\n",
       "        text-align: right;\n",
       "    }\n",
       "</style>\n",
       "<table border=\"1\" class=\"dataframe\">\n",
       "  <thead>\n",
       "    <tr style=\"text-align: right;\">\n",
       "      <th></th>\n",
       "      <th>age</th>\n",
       "      <th>gender</th>\n",
       "      <th>fever</th>\n",
       "      <th>cough</th>\n",
       "      <th>city</th>\n",
       "      <th>has_covid</th>\n",
       "    </tr>\n",
       "  </thead>\n",
       "  <tbody>\n",
       "    <tr>\n",
       "      <th>0</th>\n",
       "      <td>60</td>\n",
       "      <td>Male</td>\n",
       "      <td>103.0</td>\n",
       "      <td>Mild</td>\n",
       "      <td>Kolkata</td>\n",
       "      <td>No</td>\n",
       "    </tr>\n",
       "    <tr>\n",
       "      <th>1</th>\n",
       "      <td>27</td>\n",
       "      <td>Male</td>\n",
       "      <td>100.0</td>\n",
       "      <td>Mild</td>\n",
       "      <td>Delhi</td>\n",
       "      <td>Yes</td>\n",
       "    </tr>\n",
       "  </tbody>\n",
       "</table>\n",
       "</div>"
      ],
      "text/plain": [
       "   age gender  fever cough     city has_covid\n",
       "0   60   Male  103.0  Mild  Kolkata        No\n",
       "1   27   Male  100.0  Mild    Delhi       Yes"
      ]
     },
     "execution_count": 9,
     "metadata": {},
     "output_type": "execute_result"
    }
   ],
   "source": [
    "df=pd.read_csv(\"covid_toy.csv\")\n",
    "df.head(2)"
   ]
  },
  {
   "cell_type": "code",
   "execution_count": 10,
   "id": "6e62accb-6ad8-45d9-b590-34c863b73b50",
   "metadata": {},
   "outputs": [
    {
     "data": {
      "text/plain": [
       "age           0\n",
       "gender        0\n",
       "fever        10\n",
       "cough         0\n",
       "city          0\n",
       "has_covid     0\n",
       "dtype: int64"
      ]
     },
     "execution_count": 10,
     "metadata": {},
     "output_type": "execute_result"
    }
   ],
   "source": [
    "df.isnull().sum()"
   ]
  },
  {
   "cell_type": "code",
   "execution_count": 11,
   "id": "e8551eaa-d344-4517-8875-54b5de21efa4",
   "metadata": {},
   "outputs": [],
   "source": [
    "si = SimpleImputer()"
   ]
  },
  {
   "cell_type": "code",
   "execution_count": 12,
   "id": "cf56eb45-a604-4b15-9729-ec6e552b6998",
   "metadata": {},
   "outputs": [],
   "source": [
    "df['fever'] = si.fit_transform(df[['fever']])"
   ]
  },
  {
   "cell_type": "code",
   "execution_count": 14,
   "id": "4de4fd86-ba25-4d84-9e0f-a2b860a61128",
   "metadata": {},
   "outputs": [
    {
     "data": {
      "text/plain": [
       "age          0\n",
       "gender       0\n",
       "fever        0\n",
       "cough        0\n",
       "city         0\n",
       "has_covid    0\n",
       "dtype: int64"
      ]
     },
     "execution_count": 14,
     "metadata": {},
     "output_type": "execute_result"
    }
   ],
   "source": [
    "df.isnull().sum()"
   ]
  },
  {
   "cell_type": "code",
   "execution_count": 15,
   "id": "bdd6dc57-3be5-4899-9a9b-8bd35819b19b",
   "metadata": {},
   "outputs": [],
   "source": [
    "df_label=df.copy()"
   ]
  },
  {
   "cell_type": "code",
   "execution_count": 16,
   "id": "140086c4-7d6a-42a2-986c-31637df94525",
   "metadata": {},
   "outputs": [],
   "source": [
    "from sklearn.preprocessing import LabelEncoder\n",
    "\n"
   ]
  },
  {
   "cell_type": "code",
   "execution_count": 17,
   "id": "2a7c3d7f-995c-4d90-ae95-eb72200a0451",
   "metadata": {},
   "outputs": [],
   "source": [
    "lb = LabelEncoder()\n",
    "\n"
   ]
  },
  {
   "cell_type": "code",
   "execution_count": 18,
   "id": "f49f9689-0b49-4db5-8567-74a16421ca0d",
   "metadata": {},
   "outputs": [],
   "source": [
    "df_label['gender'] = lb.fit_transform(df_label['gender'])\n",
    "df_label['cough'] = lb.fit_transform(df_label['cough'])\n",
    "df_label['city']= lb.fit_transform(df_label['city'])\n",
    "df_label['has_covid'] = lb.fit_transform(df_label['has_covid'])\n"
   ]
  },
  {
   "cell_type": "markdown",
   "id": "1d17a43b-c51a-46e0-b6de-5828df1bcf34",
   "metadata": {},
   "source": [
    "# 2.Ordinal Encoder"
   ]
  },
  {
   "cell_type": "code",
   "execution_count": 19,
   "id": "d99d48fd-6559-4d75-827e-96496e52ead3",
   "metadata": {},
   "outputs": [],
   "source": [
    "df_ordinal = df.copy()"
   ]
  },
  {
   "cell_type": "code",
   "execution_count": 20,
   "id": "26b92918-969f-461e-8019-616870378caf",
   "metadata": {},
   "outputs": [],
   "source": [
    "# df_ordinal.head(2)"
   ]
  },
  {
   "cell_type": "code",
   "execution_count": 21,
   "id": "bda15c62-f295-41f5-954f-48c35e96ea4c",
   "metadata": {},
   "outputs": [],
   "source": [
    "df_ordinal = df_ordinal.drop(columns =['age' , 'fever' ,'city' ])"
   ]
  },
  {
   "cell_type": "code",
   "execution_count": 22,
   "id": "16a17cf7-6512-4987-bd91-d1563d6d3035",
   "metadata": {},
   "outputs": [],
   "source": [
    "# df_ordinal.head(2)"
   ]
  },
  {
   "cell_type": "code",
   "execution_count": 23,
   "id": "c5423800-1fc1-4fb6-882e-3c2d3aed9018",
   "metadata": {},
   "outputs": [],
   "source": [
    "from sklearn.preprocessing import OrdinalEncoder"
   ]
  },
  {
   "cell_type": "code",
   "execution_count": 24,
   "id": "83cdc264-8a0d-412f-8ac0-7214d1aeaea0",
   "metadata": {},
   "outputs": [],
   "source": [
    "oe = OrdinalEncoder(categories = [['Male','Female'],\n",
    "['Mild', 'Strong'],['Yes','No']])"
   ]
  },
  {
   "cell_type": "code",
   "execution_count": 26,
   "id": "96af3da9-bcaa-4a59-8025-2f82fcb7a0c2",
   "metadata": {},
   "outputs": [],
   "source": [
    "df_oe=oe.fit_transform(df_ordinal)"
   ]
  },
  {
   "cell_type": "code",
   "execution_count": 27,
   "id": "82a11429-e5fe-45a2-a012-4397108f4344",
   "metadata": {},
   "outputs": [],
   "source": [
    "df_new=pd.DataFrame(df_oe,columns=df_ordinal.columns)"
   ]
  },
  {
   "cell_type": "code",
   "execution_count": 28,
   "id": "86576293-0691-4f7d-913e-55ed19b6451b",
   "metadata": {},
   "outputs": [
    {
     "data": {
      "text/html": [
       "<div>\n",
       "<style scoped>\n",
       "    .dataframe tbody tr th:only-of-type {\n",
       "        vertical-align: middle;\n",
       "    }\n",
       "\n",
       "    .dataframe tbody tr th {\n",
       "        vertical-align: top;\n",
       "    }\n",
       "\n",
       "    .dataframe thead th {\n",
       "        text-align: right;\n",
       "    }\n",
       "</style>\n",
       "<table border=\"1\" class=\"dataframe\">\n",
       "  <thead>\n",
       "    <tr style=\"text-align: right;\">\n",
       "      <th></th>\n",
       "      <th>gender</th>\n",
       "      <th>cough</th>\n",
       "      <th>has_covid</th>\n",
       "    </tr>\n",
       "  </thead>\n",
       "  <tbody>\n",
       "    <tr>\n",
       "      <th>0</th>\n",
       "      <td>0.0</td>\n",
       "      <td>0.0</td>\n",
       "      <td>1.0</td>\n",
       "    </tr>\n",
       "    <tr>\n",
       "      <th>1</th>\n",
       "      <td>0.0</td>\n",
       "      <td>0.0</td>\n",
       "      <td>0.0</td>\n",
       "    </tr>\n",
       "  </tbody>\n",
       "</table>\n",
       "</div>"
      ],
      "text/plain": [
       "   gender  cough  has_covid\n",
       "0     0.0    0.0        1.0\n",
       "1     0.0    0.0        0.0"
      ]
     },
     "execution_count": 28,
     "metadata": {},
     "output_type": "execute_result"
    }
   ],
   "source": [
    "df_new.head(2)"
   ]
  },
  {
   "cell_type": "markdown",
   "id": "8b4fbc55-0373-44d1-a7e4-8e2e1f0bd867",
   "metadata": {},
   "source": [
    "# (3). OneHot Encoder\n",
    "gender(m,f)---->create a new columns of these sub-categories--->c1(m)\n",
    ",c2(f)"
   ]
  },
  {
   "cell_type": "code",
   "execution_count": 29,
   "id": "5683662b-d5f1-4a2b-850e-4be76748ee42",
   "metadata": {},
   "outputs": [],
   "source": [
    "df_one = df.copy()"
   ]
  },
  {
   "cell_type": "code",
   "execution_count": 30,
   "id": "ec7e79ae-9f1a-42c3-b3b4-09af967e96de",
   "metadata": {},
   "outputs": [],
   "source": [
    "# df_one.head(2)"
   ]
  },
  {
   "cell_type": "code",
   "execution_count": 31,
   "id": "dabc9929-7e7b-4006-a419-6402b5d3cb4f",
   "metadata": {},
   "outputs": [],
   "source": [
    "from sklearn.preprocessing import OneHotEncoder"
   ]
  },
  {
   "cell_type": "code",
   "execution_count": 32,
   "id": "c26f162e-f048-4782-a769-866023159056",
   "metadata": {},
   "outputs": [],
   "source": [
    "oe = OneHotEncoder(drop='first' , sparse_output=False)"
   ]
  },
  {
   "cell_type": "code",
   "execution_count": 34,
   "id": "6dea5a8e-7aac-4144-861d-300cf187b614",
   "metadata": {},
   "outputs": [],
   "source": [
    "oe_arr=oe.fit_transform(df_one[['gender','cough','city','has_covid' ]])"
   ]
  },
  {
   "cell_type": "code",
   "execution_count": 36,
   "id": "eabaf7db-815e-4056-ae40-73487c0bd32c",
   "metadata": {},
   "outputs": [],
   "source": [
    "# oe_arr"
   ]
  },
  {
   "cell_type": "markdown",
   "id": "1aa8811b-28c7-449c-9d7c-02f10c419f47",
   "metadata": {},
   "source": [
    "# 4.Get_Dummies"
   ]
  },
  {
   "cell_type": "code",
   "execution_count": 37,
   "id": "65e57016-a162-48bc-a93c-8981fb755ecd",
   "metadata": {},
   "outputs": [],
   "source": [
    "df_get = df.copy()"
   ]
  },
  {
   "cell_type": "code",
   "execution_count": 38,
   "id": "1636d616-4cb1-4abd-9f4a-01df1513d4a9",
   "metadata": {},
   "outputs": [],
   "source": [
    "# df_get.head(2)\n"
   ]
  },
  {
   "cell_type": "code",
   "execution_count": 42,
   "id": "d64077aa-c013-46de-8941-768783c45f81",
   "metadata": {},
   "outputs": [],
   "source": [
    "d=pd.get_dummies(df_get , columns = ['gender','cough','city','has_covid'],\n",
    "drop_first=True)"
   ]
  },
  {
   "cell_type": "code",
   "execution_count": 43,
   "id": "7f2bd0e5-375b-4a02-b0f4-a13d8ce6d558",
   "metadata": {},
   "outputs": [
    {
     "data": {
      "text/html": [
       "<div>\n",
       "<style scoped>\n",
       "    .dataframe tbody tr th:only-of-type {\n",
       "        vertical-align: middle;\n",
       "    }\n",
       "\n",
       "    .dataframe tbody tr th {\n",
       "        vertical-align: top;\n",
       "    }\n",
       "\n",
       "    .dataframe thead th {\n",
       "        text-align: right;\n",
       "    }\n",
       "</style>\n",
       "<table border=\"1\" class=\"dataframe\">\n",
       "  <thead>\n",
       "    <tr style=\"text-align: right;\">\n",
       "      <th></th>\n",
       "      <th>age</th>\n",
       "      <th>fever</th>\n",
       "      <th>gender_Male</th>\n",
       "      <th>cough_Strong</th>\n",
       "      <th>city_Delhi</th>\n",
       "      <th>city_Kolkata</th>\n",
       "      <th>city_Mumbai</th>\n",
       "      <th>has_covid_Yes</th>\n",
       "    </tr>\n",
       "  </thead>\n",
       "  <tbody>\n",
       "    <tr>\n",
       "      <th>0</th>\n",
       "      <td>60</td>\n",
       "      <td>103</td>\n",
       "      <td>1</td>\n",
       "      <td>0</td>\n",
       "      <td>0</td>\n",
       "      <td>1</td>\n",
       "      <td>0</td>\n",
       "      <td>0</td>\n",
       "    </tr>\n",
       "    <tr>\n",
       "      <th>1</th>\n",
       "      <td>27</td>\n",
       "      <td>100</td>\n",
       "      <td>1</td>\n",
       "      <td>0</td>\n",
       "      <td>1</td>\n",
       "      <td>0</td>\n",
       "      <td>0</td>\n",
       "      <td>1</td>\n",
       "    </tr>\n",
       "    <tr>\n",
       "      <th>2</th>\n",
       "      <td>42</td>\n",
       "      <td>101</td>\n",
       "      <td>1</td>\n",
       "      <td>0</td>\n",
       "      <td>1</td>\n",
       "      <td>0</td>\n",
       "      <td>0</td>\n",
       "      <td>0</td>\n",
       "    </tr>\n",
       "    <tr>\n",
       "      <th>3</th>\n",
       "      <td>31</td>\n",
       "      <td>98</td>\n",
       "      <td>0</td>\n",
       "      <td>0</td>\n",
       "      <td>0</td>\n",
       "      <td>1</td>\n",
       "      <td>0</td>\n",
       "      <td>0</td>\n",
       "    </tr>\n",
       "    <tr>\n",
       "      <th>4</th>\n",
       "      <td>65</td>\n",
       "      <td>101</td>\n",
       "      <td>0</td>\n",
       "      <td>0</td>\n",
       "      <td>0</td>\n",
       "      <td>0</td>\n",
       "      <td>1</td>\n",
       "      <td>0</td>\n",
       "    </tr>\n",
       "    <tr>\n",
       "      <th>...</th>\n",
       "      <td>...</td>\n",
       "      <td>...</td>\n",
       "      <td>...</td>\n",
       "      <td>...</td>\n",
       "      <td>...</td>\n",
       "      <td>...</td>\n",
       "      <td>...</td>\n",
       "      <td>...</td>\n",
       "    </tr>\n",
       "    <tr>\n",
       "      <th>95</th>\n",
       "      <td>12</td>\n",
       "      <td>104</td>\n",
       "      <td>0</td>\n",
       "      <td>0</td>\n",
       "      <td>0</td>\n",
       "      <td>0</td>\n",
       "      <td>0</td>\n",
       "      <td>0</td>\n",
       "    </tr>\n",
       "    <tr>\n",
       "      <th>96</th>\n",
       "      <td>51</td>\n",
       "      <td>101</td>\n",
       "      <td>0</td>\n",
       "      <td>1</td>\n",
       "      <td>0</td>\n",
       "      <td>1</td>\n",
       "      <td>0</td>\n",
       "      <td>1</td>\n",
       "    </tr>\n",
       "    <tr>\n",
       "      <th>97</th>\n",
       "      <td>20</td>\n",
       "      <td>101</td>\n",
       "      <td>0</td>\n",
       "      <td>0</td>\n",
       "      <td>0</td>\n",
       "      <td>0</td>\n",
       "      <td>0</td>\n",
       "      <td>0</td>\n",
       "    </tr>\n",
       "    <tr>\n",
       "      <th>98</th>\n",
       "      <td>5</td>\n",
       "      <td>98</td>\n",
       "      <td>0</td>\n",
       "      <td>1</td>\n",
       "      <td>0</td>\n",
       "      <td>0</td>\n",
       "      <td>1</td>\n",
       "      <td>0</td>\n",
       "    </tr>\n",
       "    <tr>\n",
       "      <th>99</th>\n",
       "      <td>10</td>\n",
       "      <td>98</td>\n",
       "      <td>0</td>\n",
       "      <td>1</td>\n",
       "      <td>0</td>\n",
       "      <td>1</td>\n",
       "      <td>0</td>\n",
       "      <td>1</td>\n",
       "    </tr>\n",
       "  </tbody>\n",
       "</table>\n",
       "<p>100 rows × 8 columns</p>\n",
       "</div>"
      ],
      "text/plain": [
       "    age  fever  gender_Male  cough_Strong  city_Delhi  city_Kolkata  \\\n",
       "0    60    103            1             0           0             1   \n",
       "1    27    100            1             0           1             0   \n",
       "2    42    101            1             0           1             0   \n",
       "3    31     98            0             0           0             1   \n",
       "4    65    101            0             0           0             0   \n",
       "..  ...    ...          ...           ...         ...           ...   \n",
       "95   12    104            0             0           0             0   \n",
       "96   51    101            0             1           0             1   \n",
       "97   20    101            0             0           0             0   \n",
       "98    5     98            0             1           0             0   \n",
       "99   10     98            0             1           0             1   \n",
       "\n",
       "    city_Mumbai  has_covid_Yes  \n",
       "0             0              0  \n",
       "1             0              1  \n",
       "2             0              0  \n",
       "3             0              0  \n",
       "4             1              0  \n",
       "..          ...            ...  \n",
       "95            0              0  \n",
       "96            0              1  \n",
       "97            0              0  \n",
       "98            1              0  \n",
       "99            0              1  \n",
       "\n",
       "[100 rows x 8 columns]"
      ]
     },
     "execution_count": 43,
     "metadata": {},
     "output_type": "execute_result"
    }
   ],
   "source": [
    "d.astype(int)"
   ]
  },
  {
   "cell_type": "markdown",
   "id": "097e50eb-3613-4245-b7da-54fa6782787b",
   "metadata": {},
   "source": [
    "# Summerize"
   ]
  },
  {
   "cell_type": "code",
   "execution_count": 44,
   "id": "477424d1-38fa-4a5e-a459-8ee9b0c034a3",
   "metadata": {},
   "outputs": [],
   "source": [
    "# Data Preprocessing Steps ----- >\n",
    "# (1). Data dividation ---- >\n",
    "# x,y\n",
    "# x_train , x_test , y_train , y_test\n",
    "\n",
    "# (2). Stadardiation --- > mean = 0 . std = 1 --- > Normal distribution\n",
    "# (3). MinMaxScaling --- > min = 0 , max = 1 ---- > Data scaled format\n",
    "# (4). Encoding --- > Transform your categorical data into Numerical data.\n",
    "# (4a). Label\n",
    "# (4b) .Ordinal ---- > multi-dimensional data convert and here we can\n",
    "# set our sub-categories.\n",
    "# (4c). OneHot --- > column -- > sub-categories --- > New_column\n",
    "# (4d). get_dummies --- > columns --- > sub-categories --- > New_column+column_name"
   ]
  },
  {
   "cell_type": "code",
   "execution_count": null,
   "id": "b8a85334-428d-4e71-acd9-2c1b1c36c18e",
   "metadata": {},
   "outputs": [],
   "source": []
  }
 ],
 "metadata": {
  "kernelspec": {
   "display_name": "Python 3 (ipykernel)",
   "language": "python",
   "name": "python3"
  },
  "language_info": {
   "codemirror_mode": {
    "name": "ipython",
    "version": 3
   },
   "file_extension": ".py",
   "mimetype": "text/x-python",
   "name": "python",
   "nbconvert_exporter": "python",
   "pygments_lexer": "ipython3",
   "version": "3.13.2"
  }
 },
 "nbformat": 4,
 "nbformat_minor": 5
}
