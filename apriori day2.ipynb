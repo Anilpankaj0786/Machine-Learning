{
 "cells": [
  {
   "cell_type": "code",
   "execution_count": 1,
   "id": "e0254518-39c0-435b-97a8-3432c6b6693e",
   "metadata": {},
   "outputs": [],
   "source": [
    "import numpy as np \n",
    "import pandas as pd "
   ]
  },
  {
   "cell_type": "code",
   "execution_count": 2,
   "id": "23b9aadf-5af6-4dee-a0f2-2193f066e70a",
   "metadata": {},
   "outputs": [
    {
     "data": {
      "text/html": [
       "<div>\n",
       "<style scoped>\n",
       "    .dataframe tbody tr th:only-of-type {\n",
       "        vertical-align: middle;\n",
       "    }\n",
       "\n",
       "    .dataframe tbody tr th {\n",
       "        vertical-align: top;\n",
       "    }\n",
       "\n",
       "    .dataframe thead th {\n",
       "        text-align: right;\n",
       "    }\n",
       "</style>\n",
       "<table border=\"1\" class=\"dataframe\">\n",
       "  <thead>\n",
       "    <tr style=\"text-align: right;\">\n",
       "      <th></th>\n",
       "      <th>shrimp</th>\n",
       "      <th>almonds</th>\n",
       "      <th>avocado</th>\n",
       "      <th>vegetables mix</th>\n",
       "      <th>green grapes</th>\n",
       "      <th>whole weat flour</th>\n",
       "      <th>yams</th>\n",
       "      <th>cottage cheese</th>\n",
       "      <th>energy drink</th>\n",
       "      <th>tomato juice</th>\n",
       "      <th>low fat yogurt</th>\n",
       "      <th>green tea</th>\n",
       "      <th>honey</th>\n",
       "      <th>salad</th>\n",
       "      <th>mineral water</th>\n",
       "      <th>salmon</th>\n",
       "      <th>antioxydant juice</th>\n",
       "      <th>frozen smoothie</th>\n",
       "      <th>spinach</th>\n",
       "      <th>olive oil</th>\n",
       "    </tr>\n",
       "  </thead>\n",
       "  <tbody>\n",
       "    <tr>\n",
       "      <th>0</th>\n",
       "      <td>burgers</td>\n",
       "      <td>meatballs</td>\n",
       "      <td>eggs</td>\n",
       "      <td>NaN</td>\n",
       "      <td>NaN</td>\n",
       "      <td>NaN</td>\n",
       "      <td>NaN</td>\n",
       "      <td>NaN</td>\n",
       "      <td>NaN</td>\n",
       "      <td>NaN</td>\n",
       "      <td>NaN</td>\n",
       "      <td>NaN</td>\n",
       "      <td>NaN</td>\n",
       "      <td>NaN</td>\n",
       "      <td>NaN</td>\n",
       "      <td>NaN</td>\n",
       "      <td>NaN</td>\n",
       "      <td>NaN</td>\n",
       "      <td>NaN</td>\n",
       "      <td>NaN</td>\n",
       "    </tr>\n",
       "    <tr>\n",
       "      <th>1</th>\n",
       "      <td>chutney</td>\n",
       "      <td>NaN</td>\n",
       "      <td>NaN</td>\n",
       "      <td>NaN</td>\n",
       "      <td>NaN</td>\n",
       "      <td>NaN</td>\n",
       "      <td>NaN</td>\n",
       "      <td>NaN</td>\n",
       "      <td>NaN</td>\n",
       "      <td>NaN</td>\n",
       "      <td>NaN</td>\n",
       "      <td>NaN</td>\n",
       "      <td>NaN</td>\n",
       "      <td>NaN</td>\n",
       "      <td>NaN</td>\n",
       "      <td>NaN</td>\n",
       "      <td>NaN</td>\n",
       "      <td>NaN</td>\n",
       "      <td>NaN</td>\n",
       "      <td>NaN</td>\n",
       "    </tr>\n",
       "    <tr>\n",
       "      <th>2</th>\n",
       "      <td>turkey</td>\n",
       "      <td>avocado</td>\n",
       "      <td>NaN</td>\n",
       "      <td>NaN</td>\n",
       "      <td>NaN</td>\n",
       "      <td>NaN</td>\n",
       "      <td>NaN</td>\n",
       "      <td>NaN</td>\n",
       "      <td>NaN</td>\n",
       "      <td>NaN</td>\n",
       "      <td>NaN</td>\n",
       "      <td>NaN</td>\n",
       "      <td>NaN</td>\n",
       "      <td>NaN</td>\n",
       "      <td>NaN</td>\n",
       "      <td>NaN</td>\n",
       "      <td>NaN</td>\n",
       "      <td>NaN</td>\n",
       "      <td>NaN</td>\n",
       "      <td>NaN</td>\n",
       "    </tr>\n",
       "  </tbody>\n",
       "</table>\n",
       "</div>"
      ],
      "text/plain": [
       "    shrimp    almonds avocado vegetables mix green grapes whole weat flour  \\\n",
       "0  burgers  meatballs    eggs            NaN          NaN              NaN   \n",
       "1  chutney        NaN     NaN            NaN          NaN              NaN   \n",
       "2   turkey    avocado     NaN            NaN          NaN              NaN   \n",
       "\n",
       "  yams cottage cheese energy drink tomato juice low fat yogurt green tea  \\\n",
       "0  NaN            NaN          NaN          NaN            NaN       NaN   \n",
       "1  NaN            NaN          NaN          NaN            NaN       NaN   \n",
       "2  NaN            NaN          NaN          NaN            NaN       NaN   \n",
       "\n",
       "  honey salad mineral water salmon antioxydant juice frozen smoothie spinach  \\\n",
       "0   NaN   NaN           NaN    NaN               NaN             NaN     NaN   \n",
       "1   NaN   NaN           NaN    NaN               NaN             NaN     NaN   \n",
       "2   NaN   NaN           NaN    NaN               NaN             NaN     NaN   \n",
       "\n",
       "   olive oil  \n",
       "0        NaN  \n",
       "1        NaN  \n",
       "2        NaN  "
      ]
     },
     "execution_count": 2,
     "metadata": {},
     "output_type": "execute_result"
    }
   ],
   "source": [
    "df=pd.read_csv(\"market_basket.csv\")\n",
    "df.head(3)"
   ]
  },
  {
   "cell_type": "code",
   "execution_count": 3,
   "id": "6f12bf55-4bd5-4a87-89f5-0ee54d423b19",
   "metadata": {},
   "outputs": [
    {
     "data": {
      "text/plain": [
       "(7500, 20)"
      ]
     },
     "execution_count": 3,
     "metadata": {},
     "output_type": "execute_result"
    }
   ],
   "source": [
    "df.shape"
   ]
  },
  {
   "cell_type": "code",
   "execution_count": 4,
   "id": "46fe52fe-a8cb-4c9a-9fa9-a3f2bceb7393",
   "metadata": {},
   "outputs": [],
   "source": [
    "# # Data Processing\n",
    "# transactions = []\n",
    "# for i in range(0,7501):\n",
    "#     transactions.append([str(df.values[i,j]) for j in range(0,20)])\n",
    "\n",
    "# #Training the dataset\n",
    "# from apyori import apriori\n",
    "# rules = apriori(transactions ,\n",
    "#     min_support = 0.003 ,\n",
    "#     min_confidence = 0.2,\n",
    "#     min_left = 3,\n",
    "#     min_length = 2)\n",
    "\n",
    "# #Visualizing the results\n",
    "# a = list(rules)\n",
    "# result = [list(a[i][0]) for i in range(0, len(a))]\n"
   ]
  },
  {
   "cell_type": "code",
   "execution_count": 5,
   "id": "6d743872-45e2-4c37-a697-7684087c5ab9",
   "metadata": {},
   "outputs": [],
   "source": [
    "# a"
   ]
  },
  {
   "cell_type": "code",
   "execution_count": null,
   "id": "13c8b797-4028-4eae-b08f-36c3be15cf68",
   "metadata": {},
   "outputs": [],
   "source": [
    "transactions = []\n",
    "for i in range(0, 7501):\n",
    "    transactions.append([str(df.values[i, j]) for j in range(0, 20)])"
   ]
  },
  {
   "cell_type": "code",
   "execution_count": null,
   "id": "1f0a1685-33ac-4822-8908-b44488d21655",
   "metadata": {},
   "outputs": [],
   "source": [
    "from apyori import apriori\n",
    "rules = apriori(transactions,\n",
    "                min_support= 0.003,\n",
    "                min_confidence= 0.2,\n",
    "                min_lift= 3,\n",
    "                min_length= 2)"
   ]
  },
  {
   "cell_type": "code",
   "execution_count": null,
   "id": "ab8f70f3-7df9-4ede-86c6-13ecdde91428",
   "metadata": {},
   "outputs": [],
   "source": [
    "a=list(rules)\n",
    "result = [list(a[i][0]) for i in range(0, len(a))]"
   ]
  },
  {
   "cell_type": "code",
   "execution_count": null,
   "id": "fbee22b6-ffe3-4b6f-a149-8829960d22d6",
   "metadata": {},
   "outputs": [],
   "source": [
    "a"
   ]
  },
  {
   "cell_type": "code",
   "execution_count": null,
   "id": "8b1eb150-f3a1-4537-a3f5-3226c2403382",
   "metadata": {},
   "outputs": [],
   "source": [
    "# Quest1. In which scenerio which type of machine learning models you will use and why \n",
    "# Quest2. what do you mean by inbalanced dataset \n",
    "# Quest3. What are the different techniques you can apply for transform your inbalanced dataset to balanced dataset \n",
    "# Quest4. what do you mean by performance matrix in term of regression and classification "
   ]
  },
  {
   "cell_type": "code",
   "execution_count": null,
   "id": "d1a1f3d5-1999-4a56-84a9-3002c755ac89",
   "metadata": {},
   "outputs": [],
   "source": []
  },
  {
   "cell_type": "code",
   "execution_count": null,
   "id": "7e9d7913-d16e-42dd-9e54-b05723e28d08",
   "metadata": {},
   "outputs": [],
   "source": []
  }
 ],
 "metadata": {
  "kernelspec": {
   "display_name": "Python 3 (ipykernel)",
   "language": "python",
   "name": "python3"
  },
  "language_info": {
   "codemirror_mode": {
    "name": "ipython",
    "version": 3
   },
   "file_extension": ".py",
   "mimetype": "text/x-python",
   "name": "python",
   "nbconvert_exporter": "python",
   "pygments_lexer": "ipython3",
   "version": "3.13.2"
  }
 },
 "nbformat": 4,
 "nbformat_minor": 5
}
