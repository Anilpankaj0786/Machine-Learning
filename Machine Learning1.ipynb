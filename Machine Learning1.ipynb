{
 "cells": [
  {
   "cell_type": "code",
   "execution_count": null,
   "id": "5d60845e-7e37-4081-b008-06e5cf197cbf",
   "metadata": {},
   "outputs": [],
   "source": [
    "# Introduction to Machine Learning ---- >\n",
    "\n",
    "# Data(df) --- > x(input) , y(output)\n",
    "# x ----- > x_train , x_test\n",
    "# y ---- > y_train , y_test\n",
    "\n",
    "# Machine find the relation between input to target data .\n",
    "\n",
    "# Machine (input) --- > output ????\n",
    "\n",
    "# Machine(x_train , y_train) ---- > Machine(x_test) ---- > output ?????\n",
    "# Actual_output = y_test , Machine_predict = y_pred\n",
    "\n",
    "# Machine Capability ---- > y_test <--- > y_pred\n"
   ]
  },
  {
   "cell_type": "markdown",
   "id": "63f5ce89-ec50-4d0e-b87e-a4d9850fe15b",
   "metadata": {},
   "source": [
    "# Step Dividation"
   ]
  },
  {
   "cell_type": "code",
   "execution_count": 1,
   "id": "66ecca86-b2fe-4aa9-926b-41cd62d87525",
   "metadata": {},
   "outputs": [],
   "source": [
    "import numpy as np \n",
    "import pandas as pd"
   ]
  },
  {
   "cell_type": "code",
   "execution_count": 2,
   "id": "3662c2cf-b4be-4c0a-b0ab-d1128b5ef8ab",
   "metadata": {},
   "outputs": [
    {
     "data": {
      "text/html": [
       "<div>\n",
       "<style scoped>\n",
       "    .dataframe tbody tr th:only-of-type {\n",
       "        vertical-align: middle;\n",
       "    }\n",
       "\n",
       "    .dataframe tbody tr th {\n",
       "        vertical-align: top;\n",
       "    }\n",
       "\n",
       "    .dataframe thead th {\n",
       "        text-align: right;\n",
       "    }\n",
       "</style>\n",
       "<table border=\"1\" class=\"dataframe\">\n",
       "  <thead>\n",
       "    <tr style=\"text-align: right;\">\n",
       "      <th></th>\n",
       "      <th>age</th>\n",
       "      <th>gender</th>\n",
       "      <th>fever</th>\n",
       "      <th>cough</th>\n",
       "      <th>city</th>\n",
       "      <th>has_covid</th>\n",
       "    </tr>\n",
       "  </thead>\n",
       "  <tbody>\n",
       "    <tr>\n",
       "      <th>0</th>\n",
       "      <td>60</td>\n",
       "      <td>Male</td>\n",
       "      <td>103.0</td>\n",
       "      <td>Mild</td>\n",
       "      <td>Kolkata</td>\n",
       "      <td>No</td>\n",
       "    </tr>\n",
       "    <tr>\n",
       "      <th>1</th>\n",
       "      <td>27</td>\n",
       "      <td>Male</td>\n",
       "      <td>100.0</td>\n",
       "      <td>Mild</td>\n",
       "      <td>Delhi</td>\n",
       "      <td>Yes</td>\n",
       "    </tr>\n",
       "    <tr>\n",
       "      <th>2</th>\n",
       "      <td>42</td>\n",
       "      <td>Male</td>\n",
       "      <td>101.0</td>\n",
       "      <td>Mild</td>\n",
       "      <td>Delhi</td>\n",
       "      <td>No</td>\n",
       "    </tr>\n",
       "  </tbody>\n",
       "</table>\n",
       "</div>"
      ],
      "text/plain": [
       "   age gender  fever cough     city has_covid\n",
       "0   60   Male  103.0  Mild  Kolkata        No\n",
       "1   27   Male  100.0  Mild    Delhi       Yes\n",
       "2   42   Male  101.0  Mild    Delhi        No"
      ]
     },
     "execution_count": 2,
     "metadata": {},
     "output_type": "execute_result"
    }
   ],
   "source": [
    "df=pd.read_csv(\"covid_toy.csv\")\n",
    "df.head(3)"
   ]
  },
  {
   "cell_type": "code",
   "execution_count": 3,
   "id": "e312ffe3-81c7-4420-9a75-b28d3939493e",
   "metadata": {},
   "outputs": [
    {
     "data": {
      "text/plain": [
       "(100, 6)"
      ]
     },
     "execution_count": 3,
     "metadata": {},
     "output_type": "execute_result"
    }
   ],
   "source": [
    "df.shape"
   ]
  },
  {
   "cell_type": "code",
   "execution_count": 4,
   "id": "529558db-9145-44d0-a04f-f2b5e4637cba",
   "metadata": {},
   "outputs": [
    {
     "data": {
      "text/plain": [
       "age           0\n",
       "gender        0\n",
       "fever        10\n",
       "cough         0\n",
       "city          0\n",
       "has_covid     0\n",
       "dtype: int64"
      ]
     },
     "execution_count": 4,
     "metadata": {},
     "output_type": "execute_result"
    }
   ],
   "source": [
    "df.isnull().sum()"
   ]
  },
  {
   "cell_type": "code",
   "execution_count": 6,
   "id": "d146d5d9-eefa-48a1-8e5f-56d389600aff",
   "metadata": {},
   "outputs": [],
   "source": [
    "df['fever']=df['fever'].fillna(df['fever'].mean())"
   ]
  },
  {
   "cell_type": "code",
   "execution_count": 7,
   "id": "c4f44b8f-bf51-4676-aa75-6897654f1a74",
   "metadata": {},
   "outputs": [
    {
     "data": {
      "text/plain": [
       "age          0\n",
       "gender       0\n",
       "fever        0\n",
       "cough        0\n",
       "city         0\n",
       "has_covid    0\n",
       "dtype: int64"
      ]
     },
     "execution_count": 7,
     "metadata": {},
     "output_type": "execute_result"
    }
   ],
   "source": [
    "df.isnull().sum()"
   ]
  },
  {
   "cell_type": "code",
   "execution_count": 8,
   "id": "9fea159c-67a6-4836-9d87-daf121f243aa",
   "metadata": {},
   "outputs": [],
   "source": [
    "x = df.drop(columns = ['has_covid']) ## Input data\n",
    "# x\n",
    "\n"
   ]
  },
  {
   "cell_type": "code",
   "execution_count": 12,
   "id": "93caa8e5-a493-4528-84a6-f02fc1157682",
   "metadata": {},
   "outputs": [],
   "source": [
    "y = df['has_covid' ]\n",
    "## target data\n",
    "\n",
    "# y\n"
   ]
  },
  {
   "cell_type": "code",
   "execution_count": 14,
   "id": "23ec6ae2-5362-4dcf-8e7a-3bbc6c18d921",
   "metadata": {},
   "outputs": [
    {
     "name": "stdout",
     "output_type": "stream",
     "text": [
      "Requirement already satisfied: scikit_learn in c:\\users\\dell\\appdata\\local\\programs\\python\\python313\\lib\\site-packages (1.7.0)\n",
      "Requirement already satisfied: numpy>=1.22.0 in c:\\users\\dell\\appdata\\local\\programs\\python\\python313\\lib\\site-packages (from scikit_learn) (2.2.4)\n",
      "Requirement already satisfied: scipy>=1.8.0 in c:\\users\\dell\\appdata\\local\\programs\\python\\python313\\lib\\site-packages (from scikit_learn) (1.15.3)\n",
      "Requirement already satisfied: joblib>=1.2.0 in c:\\users\\dell\\appdata\\local\\programs\\python\\python313\\lib\\site-packages (from scikit_learn) (1.5.1)\n",
      "Requirement already satisfied: threadpoolctl>=3.1.0 in c:\\users\\dell\\appdata\\local\\programs\\python\\python313\\lib\\site-packages (from scikit_learn) (3.6.0)\n"
     ]
    }
   ],
   "source": [
    "!pip install scikit_learn"
   ]
  },
  {
   "cell_type": "code",
   "execution_count": 15,
   "id": "74a5008d-2636-4bde-a2d8-c88f4759e590",
   "metadata": {},
   "outputs": [],
   "source": [
    "\n",
    "from sklearn.model_selection import train_test_split\n",
    "\n"
   ]
  },
  {
   "cell_type": "code",
   "execution_count": 16,
   "id": "32a4535b-5196-4a5e-a77a-e32e24fc86dd",
   "metadata": {},
   "outputs": [],
   "source": [
    "x_train, x_test, y_train, y_test = train_test_split(x,y,test_size=0.2, random_state=30)\n",
    "\n"
   ]
  },
  {
   "cell_type": "code",
   "execution_count": 19,
   "id": "effce92a-9b7e-4a98-a46e-81a3f6cd3177",
   "metadata": {},
   "outputs": [
    {
     "name": "stdout",
     "output_type": "stream",
     "text": [
      "Total data shape : (100, 6)\n",
      "---------------------------\n",
      "Input data(x) shape: (100, 5)\n",
      "x_train data shape: (80, 5)\n",
      "x_test data shape: (20, 5)\n",
      "---------------------------\n",
      "Target data shape(y): (100,)\n",
      "y_train data shape : (80,)\n",
      "y_test data shape: (20,)\n",
      "---------------------------\n"
     ]
    }
   ],
   "source": [
    "print(\"Total data shape :\" , df.shape)\n",
    "print(\"---------------------------\")\n",
    "print(\"Input data(x) shape:\" , x.shape)\n",
    "print(\"x_train data shape:\" , x_train.shape)\n",
    "print(\"x_test data shape:\" , x_test.shape)\n",
    "print(\"---------------------------\")\n",
    "\n",
    "print(\"Target data shape(y):\", y.shape)\n",
    "print(\"y_train data shape :\" , y_train.shape)\n",
    "print(\"y_test data shape:\", y_test.shape)\n",
    "print(\"---------------------------\")"
   ]
  },
  {
   "cell_type": "code",
   "execution_count": 20,
   "id": "1181f6f4-4e74-4404-ab6a-68f1c59d4d1f",
   "metadata": {},
   "outputs": [],
   "source": [
    "# df(100,6) = x(100,5)+ y(100,1)\n",
    "# x(100,5) = x_train(80,5) + x_test(20,5)\n",
    "# y(100,1) = y_train(80,1) + y_test(20,1)"
   ]
  },
  {
   "cell_type": "code",
   "execution_count": 21,
   "id": "b19aee5b-ce0d-4c25-9ce7-d8a39cff5c00",
   "metadata": {},
   "outputs": [
    {
     "data": {
      "text/html": [
       "<div>\n",
       "<style scoped>\n",
       "    .dataframe tbody tr th:only-of-type {\n",
       "        vertical-align: middle;\n",
       "    }\n",
       "\n",
       "    .dataframe tbody tr th {\n",
       "        vertical-align: top;\n",
       "    }\n",
       "\n",
       "    .dataframe thead th {\n",
       "        text-align: right;\n",
       "    }\n",
       "</style>\n",
       "<table border=\"1\" class=\"dataframe\">\n",
       "  <thead>\n",
       "    <tr style=\"text-align: right;\">\n",
       "      <th></th>\n",
       "      <th>PassengerId</th>\n",
       "      <th>Survived</th>\n",
       "      <th>Pclass</th>\n",
       "      <th>Name</th>\n",
       "      <th>Sex</th>\n",
       "      <th>Age</th>\n",
       "      <th>SibSp</th>\n",
       "      <th>Parch</th>\n",
       "      <th>Ticket</th>\n",
       "      <th>Fare</th>\n",
       "      <th>Cabin</th>\n",
       "      <th>Embarked</th>\n",
       "    </tr>\n",
       "  </thead>\n",
       "  <tbody>\n",
       "    <tr>\n",
       "      <th>0</th>\n",
       "      <td>892</td>\n",
       "      <td>0</td>\n",
       "      <td>3</td>\n",
       "      <td>Kelly, Mr. James</td>\n",
       "      <td>male</td>\n",
       "      <td>34.5</td>\n",
       "      <td>0</td>\n",
       "      <td>0</td>\n",
       "      <td>330911</td>\n",
       "      <td>7.8292</td>\n",
       "      <td>NaN</td>\n",
       "      <td>Q</td>\n",
       "    </tr>\n",
       "    <tr>\n",
       "      <th>1</th>\n",
       "      <td>893</td>\n",
       "      <td>1</td>\n",
       "      <td>3</td>\n",
       "      <td>Wilkes, Mrs. James (Ellen Needs)</td>\n",
       "      <td>female</td>\n",
       "      <td>47.0</td>\n",
       "      <td>1</td>\n",
       "      <td>0</td>\n",
       "      <td>363272</td>\n",
       "      <td>7.0000</td>\n",
       "      <td>NaN</td>\n",
       "      <td>S</td>\n",
       "    </tr>\n",
       "    <tr>\n",
       "      <th>2</th>\n",
       "      <td>894</td>\n",
       "      <td>0</td>\n",
       "      <td>2</td>\n",
       "      <td>Myles, Mr. Thomas Francis</td>\n",
       "      <td>male</td>\n",
       "      <td>62.0</td>\n",
       "      <td>0</td>\n",
       "      <td>0</td>\n",
       "      <td>240276</td>\n",
       "      <td>9.6875</td>\n",
       "      <td>NaN</td>\n",
       "      <td>Q</td>\n",
       "    </tr>\n",
       "  </tbody>\n",
       "</table>\n",
       "</div>"
      ],
      "text/plain": [
       "   PassengerId  Survived  Pclass                              Name     Sex  \\\n",
       "0          892         0       3                  Kelly, Mr. James    male   \n",
       "1          893         1       3  Wilkes, Mrs. James (Ellen Needs)  female   \n",
       "2          894         0       2         Myles, Mr. Thomas Francis    male   \n",
       "\n",
       "    Age  SibSp  Parch  Ticket    Fare Cabin Embarked  \n",
       "0  34.5      0      0  330911  7.8292   NaN        Q  \n",
       "1  47.0      1      0  363272  7.0000   NaN        S  \n",
       "2  62.0      0      0  240276  9.6875   NaN        Q  "
      ]
     },
     "execution_count": 21,
     "metadata": {},
     "output_type": "execute_result"
    }
   ],
   "source": [
    "df=pd.read_csv(\"titanic.csv\")\n",
    "df.head(3)"
   ]
  },
  {
   "cell_type": "code",
   "execution_count": 22,
   "id": "5f17755d-e8e9-4ab0-82c6-73411bc9d0df",
   "metadata": {},
   "outputs": [
    {
     "data": {
      "text/plain": [
       "(418, 12)"
      ]
     },
     "execution_count": 22,
     "metadata": {},
     "output_type": "execute_result"
    }
   ],
   "source": [
    "df.shape "
   ]
  },
  {
   "cell_type": "code",
   "execution_count": 23,
   "id": "f0e6c3b1-89bd-47db-a003-17c0e25215ab",
   "metadata": {},
   "outputs": [
    {
     "data": {
      "text/plain": [
       "PassengerId      0\n",
       "Survived         0\n",
       "Pclass           0\n",
       "Name             0\n",
       "Sex              0\n",
       "Age             86\n",
       "SibSp            0\n",
       "Parch            0\n",
       "Ticket           0\n",
       "Fare             1\n",
       "Cabin          327\n",
       "Embarked         0\n",
       "dtype: int64"
      ]
     },
     "execution_count": 23,
     "metadata": {},
     "output_type": "execute_result"
    }
   ],
   "source": [
    "df.isnull().sum()"
   ]
  },
  {
   "cell_type": "code",
   "execution_count": 25,
   "id": "06f32402-5fa2-4ddb-a26e-3d0d1fc6d076",
   "metadata": {},
   "outputs": [],
   "source": [
    "df['Age']=df['Age'].fillna(df['Age'].mean())\n",
    "# df['Cabin']=df['Cabin'].fillna(df['Cabin'].mean())"
   ]
  },
  {
   "cell_type": "code",
   "execution_count": 26,
   "id": "ca26664b-62f7-4453-9486-c580ebf2380a",
   "metadata": {},
   "outputs": [
    {
     "data": {
      "text/html": [
       "<div>\n",
       "<style scoped>\n",
       "    .dataframe tbody tr th:only-of-type {\n",
       "        vertical-align: middle;\n",
       "    }\n",
       "\n",
       "    .dataframe tbody tr th {\n",
       "        vertical-align: top;\n",
       "    }\n",
       "\n",
       "    .dataframe thead th {\n",
       "        text-align: right;\n",
       "    }\n",
       "</style>\n",
       "<table border=\"1\" class=\"dataframe\">\n",
       "  <thead>\n",
       "    <tr style=\"text-align: right;\">\n",
       "      <th></th>\n",
       "      <th>PassengerId</th>\n",
       "      <th>Survived</th>\n",
       "      <th>Pclass</th>\n",
       "      <th>Name</th>\n",
       "      <th>Sex</th>\n",
       "      <th>Age</th>\n",
       "      <th>SibSp</th>\n",
       "      <th>Parch</th>\n",
       "      <th>Ticket</th>\n",
       "      <th>Fare</th>\n",
       "      <th>Embarked</th>\n",
       "    </tr>\n",
       "  </thead>\n",
       "  <tbody>\n",
       "    <tr>\n",
       "      <th>0</th>\n",
       "      <td>892</td>\n",
       "      <td>0</td>\n",
       "      <td>3</td>\n",
       "      <td>Kelly, Mr. James</td>\n",
       "      <td>male</td>\n",
       "      <td>34.50000</td>\n",
       "      <td>0</td>\n",
       "      <td>0</td>\n",
       "      <td>330911</td>\n",
       "      <td>7.8292</td>\n",
       "      <td>Q</td>\n",
       "    </tr>\n",
       "    <tr>\n",
       "      <th>1</th>\n",
       "      <td>893</td>\n",
       "      <td>1</td>\n",
       "      <td>3</td>\n",
       "      <td>Wilkes, Mrs. James (Ellen Needs)</td>\n",
       "      <td>female</td>\n",
       "      <td>47.00000</td>\n",
       "      <td>1</td>\n",
       "      <td>0</td>\n",
       "      <td>363272</td>\n",
       "      <td>7.0000</td>\n",
       "      <td>S</td>\n",
       "    </tr>\n",
       "    <tr>\n",
       "      <th>2</th>\n",
       "      <td>894</td>\n",
       "      <td>0</td>\n",
       "      <td>2</td>\n",
       "      <td>Myles, Mr. Thomas Francis</td>\n",
       "      <td>male</td>\n",
       "      <td>62.00000</td>\n",
       "      <td>0</td>\n",
       "      <td>0</td>\n",
       "      <td>240276</td>\n",
       "      <td>9.6875</td>\n",
       "      <td>Q</td>\n",
       "    </tr>\n",
       "    <tr>\n",
       "      <th>3</th>\n",
       "      <td>895</td>\n",
       "      <td>0</td>\n",
       "      <td>3</td>\n",
       "      <td>Wirz, Mr. Albert</td>\n",
       "      <td>male</td>\n",
       "      <td>27.00000</td>\n",
       "      <td>0</td>\n",
       "      <td>0</td>\n",
       "      <td>315154</td>\n",
       "      <td>8.6625</td>\n",
       "      <td>S</td>\n",
       "    </tr>\n",
       "    <tr>\n",
       "      <th>4</th>\n",
       "      <td>896</td>\n",
       "      <td>1</td>\n",
       "      <td>3</td>\n",
       "      <td>Hirvonen, Mrs. Alexander (Helga E Lindqvist)</td>\n",
       "      <td>female</td>\n",
       "      <td>22.00000</td>\n",
       "      <td>1</td>\n",
       "      <td>1</td>\n",
       "      <td>3101298</td>\n",
       "      <td>12.2875</td>\n",
       "      <td>S</td>\n",
       "    </tr>\n",
       "    <tr>\n",
       "      <th>...</th>\n",
       "      <td>...</td>\n",
       "      <td>...</td>\n",
       "      <td>...</td>\n",
       "      <td>...</td>\n",
       "      <td>...</td>\n",
       "      <td>...</td>\n",
       "      <td>...</td>\n",
       "      <td>...</td>\n",
       "      <td>...</td>\n",
       "      <td>...</td>\n",
       "      <td>...</td>\n",
       "    </tr>\n",
       "    <tr>\n",
       "      <th>413</th>\n",
       "      <td>1305</td>\n",
       "      <td>0</td>\n",
       "      <td>3</td>\n",
       "      <td>Spector, Mr. Woolf</td>\n",
       "      <td>male</td>\n",
       "      <td>30.27259</td>\n",
       "      <td>0</td>\n",
       "      <td>0</td>\n",
       "      <td>A.5. 3236</td>\n",
       "      <td>8.0500</td>\n",
       "      <td>S</td>\n",
       "    </tr>\n",
       "    <tr>\n",
       "      <th>414</th>\n",
       "      <td>1306</td>\n",
       "      <td>1</td>\n",
       "      <td>1</td>\n",
       "      <td>Oliva y Ocana, Dona. Fermina</td>\n",
       "      <td>female</td>\n",
       "      <td>39.00000</td>\n",
       "      <td>0</td>\n",
       "      <td>0</td>\n",
       "      <td>PC 17758</td>\n",
       "      <td>108.9000</td>\n",
       "      <td>C</td>\n",
       "    </tr>\n",
       "    <tr>\n",
       "      <th>415</th>\n",
       "      <td>1307</td>\n",
       "      <td>0</td>\n",
       "      <td>3</td>\n",
       "      <td>Saether, Mr. Simon Sivertsen</td>\n",
       "      <td>male</td>\n",
       "      <td>38.50000</td>\n",
       "      <td>0</td>\n",
       "      <td>0</td>\n",
       "      <td>SOTON/O.Q. 3101262</td>\n",
       "      <td>7.2500</td>\n",
       "      <td>S</td>\n",
       "    </tr>\n",
       "    <tr>\n",
       "      <th>416</th>\n",
       "      <td>1308</td>\n",
       "      <td>0</td>\n",
       "      <td>3</td>\n",
       "      <td>Ware, Mr. Frederick</td>\n",
       "      <td>male</td>\n",
       "      <td>30.27259</td>\n",
       "      <td>0</td>\n",
       "      <td>0</td>\n",
       "      <td>359309</td>\n",
       "      <td>8.0500</td>\n",
       "      <td>S</td>\n",
       "    </tr>\n",
       "    <tr>\n",
       "      <th>417</th>\n",
       "      <td>1309</td>\n",
       "      <td>0</td>\n",
       "      <td>3</td>\n",
       "      <td>Peter, Master. Michael J</td>\n",
       "      <td>male</td>\n",
       "      <td>30.27259</td>\n",
       "      <td>1</td>\n",
       "      <td>1</td>\n",
       "      <td>2668</td>\n",
       "      <td>22.3583</td>\n",
       "      <td>C</td>\n",
       "    </tr>\n",
       "  </tbody>\n",
       "</table>\n",
       "<p>418 rows × 11 columns</p>\n",
       "</div>"
      ],
      "text/plain": [
       "     PassengerId  Survived  Pclass  \\\n",
       "0            892         0       3   \n",
       "1            893         1       3   \n",
       "2            894         0       2   \n",
       "3            895         0       3   \n",
       "4            896         1       3   \n",
       "..           ...       ...     ...   \n",
       "413         1305         0       3   \n",
       "414         1306         1       1   \n",
       "415         1307         0       3   \n",
       "416         1308         0       3   \n",
       "417         1309         0       3   \n",
       "\n",
       "                                             Name     Sex       Age  SibSp  \\\n",
       "0                                Kelly, Mr. James    male  34.50000      0   \n",
       "1                Wilkes, Mrs. James (Ellen Needs)  female  47.00000      1   \n",
       "2                       Myles, Mr. Thomas Francis    male  62.00000      0   \n",
       "3                                Wirz, Mr. Albert    male  27.00000      0   \n",
       "4    Hirvonen, Mrs. Alexander (Helga E Lindqvist)  female  22.00000      1   \n",
       "..                                            ...     ...       ...    ...   \n",
       "413                            Spector, Mr. Woolf    male  30.27259      0   \n",
       "414                  Oliva y Ocana, Dona. Fermina  female  39.00000      0   \n",
       "415                  Saether, Mr. Simon Sivertsen    male  38.50000      0   \n",
       "416                           Ware, Mr. Frederick    male  30.27259      0   \n",
       "417                      Peter, Master. Michael J    male  30.27259      1   \n",
       "\n",
       "     Parch              Ticket      Fare Embarked  \n",
       "0        0              330911    7.8292        Q  \n",
       "1        0              363272    7.0000        S  \n",
       "2        0              240276    9.6875        Q  \n",
       "3        0              315154    8.6625        S  \n",
       "4        1             3101298   12.2875        S  \n",
       "..     ...                 ...       ...      ...  \n",
       "413      0           A.5. 3236    8.0500        S  \n",
       "414      0            PC 17758  108.9000        C  \n",
       "415      0  SOTON/O.Q. 3101262    7.2500        S  \n",
       "416      0              359309    8.0500        S  \n",
       "417      1                2668   22.3583        C  \n",
       "\n",
       "[418 rows x 11 columns]"
      ]
     },
     "execution_count": 26,
     "metadata": {},
     "output_type": "execute_result"
    }
   ],
   "source": [
    "df.drop(columns = ['Cabin']) ## Input data\n",
    "# x\n",
    "\n"
   ]
  },
  {
   "cell_type": "code",
   "execution_count": 27,
   "id": "12b8c3bc-2a27-45f8-b1cb-b97de80abe69",
   "metadata": {},
   "outputs": [],
   "source": [
    "x = df.drop(columns = ['Survived']) ## Input data\n",
    "# x\n",
    "\n"
   ]
  },
  {
   "cell_type": "code",
   "execution_count": 28,
   "id": "e5f65ad4-3e84-4073-ad82-9092f1d1320c",
   "metadata": {},
   "outputs": [],
   "source": [
    "y=df[\"Survived\"]"
   ]
  },
  {
   "cell_type": "code",
   "execution_count": 29,
   "id": "f7e6921e-3b2d-4c50-8846-53695b03d78c",
   "metadata": {},
   "outputs": [],
   "source": [
    "x_train, x_test, y_train, y_test = train_test_split(x,y,test_size=0.2, random_state=30)\n",
    "\n"
   ]
  },
  {
   "cell_type": "code",
   "execution_count": 30,
   "id": "9788d539-750a-4720-a18b-02187d94b401",
   "metadata": {},
   "outputs": [
    {
     "name": "stdout",
     "output_type": "stream",
     "text": [
      "Total data shape : (418, 12)\n",
      "---------------------------\n",
      "Input data(x) shape: (418, 11)\n",
      "x_train data shape: (334, 11)\n",
      "x_test data shape: (84, 11)\n",
      "---------------------------\n",
      "Target data shape(y): (418,)\n",
      "y_train data shape : (334,)\n",
      "y_test data shape: (84,)\n",
      "---------------------------\n"
     ]
    }
   ],
   "source": [
    "print(\"Total data shape :\" , df.shape)\n",
    "print(\"---------------------------\")\n",
    "print(\"Input data(x) shape:\" , x.shape)\n",
    "print(\"x_train data shape:\" , x_train.shape)\n",
    "print(\"x_test data shape:\" , x_test.shape)\n",
    "print(\"---------------------------\")\n",
    "\n",
    "print(\"Target data shape(y):\", y.shape)\n",
    "print(\"y_train data shape :\" , y_train.shape)\n",
    "print(\"y_test data shape:\", y_test.shape)\n",
    "print(\"---------------------------\")"
   ]
  },
  {
   "cell_type": "code",
   "execution_count": 31,
   "id": "5a070c7d-3308-43b8-816e-ff7ee99e2300",
   "metadata": {},
   "outputs": [
    {
     "data": {
      "text/html": [
       "<div>\n",
       "<style scoped>\n",
       "    .dataframe tbody tr th:only-of-type {\n",
       "        vertical-align: middle;\n",
       "    }\n",
       "\n",
       "    .dataframe tbody tr th {\n",
       "        vertical-align: top;\n",
       "    }\n",
       "\n",
       "    .dataframe thead th {\n",
       "        text-align: right;\n",
       "    }\n",
       "</style>\n",
       "<table border=\"1\" class=\"dataframe\">\n",
       "  <thead>\n",
       "    <tr style=\"text-align: right;\">\n",
       "      <th></th>\n",
       "      <th>total_bill</th>\n",
       "      <th>tip</th>\n",
       "      <th>sex</th>\n",
       "      <th>smoker</th>\n",
       "      <th>day</th>\n",
       "      <th>time</th>\n",
       "      <th>size</th>\n",
       "    </tr>\n",
       "  </thead>\n",
       "  <tbody>\n",
       "    <tr>\n",
       "      <th>0</th>\n",
       "      <td>16.99</td>\n",
       "      <td>1.01</td>\n",
       "      <td>Female</td>\n",
       "      <td>No</td>\n",
       "      <td>Sun</td>\n",
       "      <td>Dinner</td>\n",
       "      <td>2</td>\n",
       "    </tr>\n",
       "    <tr>\n",
       "      <th>1</th>\n",
       "      <td>10.34</td>\n",
       "      <td>1.66</td>\n",
       "      <td>Male</td>\n",
       "      <td>No</td>\n",
       "      <td>Sun</td>\n",
       "      <td>Dinner</td>\n",
       "      <td>3</td>\n",
       "    </tr>\n",
       "    <tr>\n",
       "      <th>2</th>\n",
       "      <td>21.01</td>\n",
       "      <td>3.50</td>\n",
       "      <td>Male</td>\n",
       "      <td>No</td>\n",
       "      <td>Sun</td>\n",
       "      <td>Dinner</td>\n",
       "      <td>3</td>\n",
       "    </tr>\n",
       "  </tbody>\n",
       "</table>\n",
       "</div>"
      ],
      "text/plain": [
       "   total_bill   tip     sex smoker  day    time  size\n",
       "0       16.99  1.01  Female     No  Sun  Dinner     2\n",
       "1       10.34  1.66    Male     No  Sun  Dinner     3\n",
       "2       21.01  3.50    Male     No  Sun  Dinner     3"
      ]
     },
     "execution_count": 31,
     "metadata": {},
     "output_type": "execute_result"
    }
   ],
   "source": [
    "df=pd.read_csv(\"tips.csv\")\n",
    "df.head(3)"
   ]
  },
  {
   "cell_type": "code",
   "execution_count": 32,
   "id": "fb5c27a0-b5cf-4b53-be18-d115b0459926",
   "metadata": {},
   "outputs": [
    {
     "data": {
      "text/plain": [
       "total_bill    0\n",
       "tip           0\n",
       "sex           0\n",
       "smoker        0\n",
       "day           0\n",
       "time          0\n",
       "size          0\n",
       "dtype: int64"
      ]
     },
     "execution_count": 32,
     "metadata": {},
     "output_type": "execute_result"
    }
   ],
   "source": [
    "df.isnull().sum()"
   ]
  },
  {
   "cell_type": "code",
   "execution_count": 34,
   "id": "cbd8f0ec-55ad-487b-9934-8557499ff352",
   "metadata": {},
   "outputs": [
    {
     "data": {
      "text/html": [
       "<div>\n",
       "<style scoped>\n",
       "    .dataframe tbody tr th:only-of-type {\n",
       "        vertical-align: middle;\n",
       "    }\n",
       "\n",
       "    .dataframe tbody tr th {\n",
       "        vertical-align: top;\n",
       "    }\n",
       "\n",
       "    .dataframe thead th {\n",
       "        text-align: right;\n",
       "    }\n",
       "</style>\n",
       "<table border=\"1\" class=\"dataframe\">\n",
       "  <thead>\n",
       "    <tr style=\"text-align: right;\">\n",
       "      <th></th>\n",
       "      <th>tip</th>\n",
       "      <th>sex</th>\n",
       "      <th>smoker</th>\n",
       "      <th>day</th>\n",
       "      <th>time</th>\n",
       "      <th>size</th>\n",
       "    </tr>\n",
       "  </thead>\n",
       "  <tbody>\n",
       "    <tr>\n",
       "      <th>0</th>\n",
       "      <td>1.01</td>\n",
       "      <td>Female</td>\n",
       "      <td>No</td>\n",
       "      <td>Sun</td>\n",
       "      <td>Dinner</td>\n",
       "      <td>2</td>\n",
       "    </tr>\n",
       "    <tr>\n",
       "      <th>1</th>\n",
       "      <td>1.66</td>\n",
       "      <td>Male</td>\n",
       "      <td>No</td>\n",
       "      <td>Sun</td>\n",
       "      <td>Dinner</td>\n",
       "      <td>3</td>\n",
       "    </tr>\n",
       "    <tr>\n",
       "      <th>2</th>\n",
       "      <td>3.50</td>\n",
       "      <td>Male</td>\n",
       "      <td>No</td>\n",
       "      <td>Sun</td>\n",
       "      <td>Dinner</td>\n",
       "      <td>3</td>\n",
       "    </tr>\n",
       "    <tr>\n",
       "      <th>3</th>\n",
       "      <td>3.31</td>\n",
       "      <td>Male</td>\n",
       "      <td>No</td>\n",
       "      <td>Sun</td>\n",
       "      <td>Dinner</td>\n",
       "      <td>2</td>\n",
       "    </tr>\n",
       "    <tr>\n",
       "      <th>4</th>\n",
       "      <td>3.61</td>\n",
       "      <td>Female</td>\n",
       "      <td>No</td>\n",
       "      <td>Sun</td>\n",
       "      <td>Dinner</td>\n",
       "      <td>4</td>\n",
       "    </tr>\n",
       "    <tr>\n",
       "      <th>...</th>\n",
       "      <td>...</td>\n",
       "      <td>...</td>\n",
       "      <td>...</td>\n",
       "      <td>...</td>\n",
       "      <td>...</td>\n",
       "      <td>...</td>\n",
       "    </tr>\n",
       "    <tr>\n",
       "      <th>239</th>\n",
       "      <td>5.92</td>\n",
       "      <td>Male</td>\n",
       "      <td>No</td>\n",
       "      <td>Sat</td>\n",
       "      <td>Dinner</td>\n",
       "      <td>3</td>\n",
       "    </tr>\n",
       "    <tr>\n",
       "      <th>240</th>\n",
       "      <td>2.00</td>\n",
       "      <td>Female</td>\n",
       "      <td>Yes</td>\n",
       "      <td>Sat</td>\n",
       "      <td>Dinner</td>\n",
       "      <td>2</td>\n",
       "    </tr>\n",
       "    <tr>\n",
       "      <th>241</th>\n",
       "      <td>2.00</td>\n",
       "      <td>Male</td>\n",
       "      <td>Yes</td>\n",
       "      <td>Sat</td>\n",
       "      <td>Dinner</td>\n",
       "      <td>2</td>\n",
       "    </tr>\n",
       "    <tr>\n",
       "      <th>242</th>\n",
       "      <td>1.75</td>\n",
       "      <td>Male</td>\n",
       "      <td>No</td>\n",
       "      <td>Sat</td>\n",
       "      <td>Dinner</td>\n",
       "      <td>2</td>\n",
       "    </tr>\n",
       "    <tr>\n",
       "      <th>243</th>\n",
       "      <td>3.00</td>\n",
       "      <td>Female</td>\n",
       "      <td>No</td>\n",
       "      <td>Thur</td>\n",
       "      <td>Dinner</td>\n",
       "      <td>2</td>\n",
       "    </tr>\n",
       "  </tbody>\n",
       "</table>\n",
       "<p>244 rows × 6 columns</p>\n",
       "</div>"
      ],
      "text/plain": [
       "      tip     sex smoker   day    time  size\n",
       "0    1.01  Female     No   Sun  Dinner     2\n",
       "1    1.66    Male     No   Sun  Dinner     3\n",
       "2    3.50    Male     No   Sun  Dinner     3\n",
       "3    3.31    Male     No   Sun  Dinner     2\n",
       "4    3.61  Female     No   Sun  Dinner     4\n",
       "..    ...     ...    ...   ...     ...   ...\n",
       "239  5.92    Male     No   Sat  Dinner     3\n",
       "240  2.00  Female    Yes   Sat  Dinner     2\n",
       "241  2.00    Male    Yes   Sat  Dinner     2\n",
       "242  1.75    Male     No   Sat  Dinner     2\n",
       "243  3.00  Female     No  Thur  Dinner     2\n",
       "\n",
       "[244 rows x 6 columns]"
      ]
     },
     "execution_count": 34,
     "metadata": {},
     "output_type": "execute_result"
    }
   ],
   "source": [
    "x = df.drop(columns = ['total_bill']) ## Input data\n",
    "x\n",
    "\n"
   ]
  },
  {
   "cell_type": "code",
   "execution_count": 35,
   "id": "2a0a4361-90ed-4b03-90ce-4eec87886656",
   "metadata": {},
   "outputs": [],
   "source": [
    "y=df[\"total_bill\"]"
   ]
  },
  {
   "cell_type": "code",
   "execution_count": 36,
   "id": "72c8e1e8-efdf-43ce-a599-d9b5b5a909ba",
   "metadata": {},
   "outputs": [],
   "source": [
    "x_train, x_test, y_train, y_test = train_test_split(x,y,test_size=0.3, random_state=40)\n",
    "\n"
   ]
  },
  {
   "cell_type": "code",
   "execution_count": 37,
   "id": "c2891ad0-1659-4fac-a69b-a8cdd5d7f421",
   "metadata": {},
   "outputs": [
    {
     "name": "stdout",
     "output_type": "stream",
     "text": [
      "Total data shape : (244, 7)\n",
      "---------------------------\n",
      "Input data(x) shape: (244, 6)\n",
      "x_train data shape: (170, 6)\n",
      "x_test data shape: (74, 6)\n",
      "---------------------------\n",
      "Target data shape(y): (244,)\n",
      "y_train data shape : (170,)\n",
      "y_test data shape: (74,)\n",
      "---------------------------\n"
     ]
    }
   ],
   "source": [
    "print(\"Total data shape :\" , df.shape)\n",
    "print(\"---------------------------\")\n",
    "print(\"Input data(x) shape:\" , x.shape)\n",
    "print(\"x_train data shape:\" , x_train.shape)\n",
    "print(\"x_test data shape:\" , x_test.shape)\n",
    "print(\"---------------------------\")\n",
    "\n",
    "print(\"Target data shape(y):\", y.shape)\n",
    "print(\"y_train data shape :\" , y_train.shape)\n",
    "print(\"y_test data shape:\", y_test.shape)\n",
    "print(\"---------------------------\")"
   ]
  },
  {
   "cell_type": "code",
   "execution_count": null,
   "id": "f9bca153-5eb1-434c-a064-33d4146dc7d8",
   "metadata": {},
   "outputs": [],
   "source": []
  }
 ],
 "metadata": {
  "kernelspec": {
   "display_name": "Python 3 (ipykernel)",
   "language": "python",
   "name": "python3"
  },
  "language_info": {
   "codemirror_mode": {
    "name": "ipython",
    "version": 3
   },
   "file_extension": ".py",
   "mimetype": "text/x-python",
   "name": "python",
   "nbconvert_exporter": "python",
   "pygments_lexer": "ipython3",
   "version": "3.13.2"
  }
 },
 "nbformat": 4,
 "nbformat_minor": 5
}
